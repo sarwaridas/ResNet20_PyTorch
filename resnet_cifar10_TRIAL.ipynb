{
  "cells": [
    {
      "cell_type": "markdown",
      "metadata": {
        "id": "pm971huj8o8e"
      },
      "source": [
        "# Training SimpleNN on CIFAR-10\n",
        "In this project, you will use the SimpleNN model to perform image classification on CIFAR-10. CIFAR-10 orginally contains 60K images from 10 categories. We split it into 45K/5K/10K images to serve as train/valiation/test set. We only release the ground-truth labels of training/validation dataset to you."
      ]
    },
    {
      "cell_type": "markdown",
      "metadata": {
        "id": "SjV0Oozm8o8g"
      },
      "source": [
        "## Step 0: Set up the SimpleNN model\n",
        "As you have practiced to implement simple neural networks in Homework 1, we just prepare the implementation for you."
      ]
    },
    {
      "cell_type": "code",
      "execution_count": 41,
      "metadata": {
        "id": "NuLV8x-R8o8h"
      },
      "outputs": [],
      "source": [
        "# import necessary dependencies\n",
        "import argparse\n",
        "import os, sys\n",
        "import time\n",
        "import datetime\n",
        "from tqdm import tqdm_notebook as tqdm\n",
        "\n",
        "import torch\n",
        "import torch.nn as nn\n",
        "import torch.nn.functional as F"
      ]
    },
    {
      "cell_type": "code",
      "execution_count": 42,
      "metadata": {
        "id": "45O_h1Ou8o8i"
      },
      "outputs": [],
      "source": [
        "# define the SimpleNN mode;\n",
        "class SimpleNN(nn.Module):\n",
        "    def __init__(self):\n",
        "        super(SimpleNN, self).__init__()\n",
        "        self.conv1 = nn.Conv2d(3, 8, 5)\n",
        "        self.conv_batch1= nn.BatchNorm2d(8)\n",
        "        self.conv2 = nn.Conv2d(8, 16, 3)\n",
        "        self.conv_batch2= nn.BatchNorm2d(16)\n",
        "        self.fc1   = nn.Linear(16*6*6, 120)\n",
        "        self.fc2   = nn.Linear(120, 84)\n",
        "        self.fc3   = nn.Linear(84, 10)\n",
        "\n",
        "    def swish(self, x):\n",
        "        return x * torch.sigmoid(x)\n",
        "\n",
        "    def forward(self, x):\n",
        "        out = self.swish(self.conv_batch1(self.conv1(x)))\n",
        "        out = F.max_pool2d(out, 2)\n",
        "        out = self.swish(self.conv_batch2(self.conv2(out)))\n",
        "        out = F.max_pool2d(out, 2)\n",
        "        out = out.view(out.size(0), -1)\n",
        "        out = self.swish(self.fc1(out))\n",
        "        out = self.swish(self.fc2(out))\n",
        "        out = self.fc3(out)\n",
        "        return out"
      ]
    },
    {
      "cell_type": "code",
      "source": [
        "class Block(nn.Module):\n",
        "    def __init__(self, in_channels, out_channels, stride=1):\n",
        "        super(Block, self).__init__()\n",
        "        self.conv1 = nn.Conv2d(in_channels, out_channels, kernel_size=3, stride=stride, padding=1)\n",
        "        self.bn1 = nn.BatchNorm2d(out_channels)\n",
        "        self.conv2 = nn.Conv2d(out_channels, out_channels, kernel_size=3, stride=1, padding=1)\n",
        "        self.bn2 = nn.BatchNorm2d(out_channels)\n",
        "        self.identity = nn.Sequential()\n",
        "        if stride != 1:\n",
        "                self.identity = nn.Sequential(\n",
        "                     nn.Conv2d(in_channels,out_channels, kernel_size=1, stride=stride),\n",
        "                     nn.BatchNorm2d(out_channels)\n",
        "                )\n",
        "\n",
        "    def forward(self, x):\n",
        "        out = F.relu(self.bn1(self.conv1(x)))\n",
        "        out = self.bn2(self.conv2(out))\n",
        "        residual = self.identity(x)\n",
        "        out += residual\n",
        "        out = F.relu(out)\n",
        "        return out"
      ],
      "metadata": {
        "id": "YMW6mh2fo5Ui"
      },
      "execution_count": 43,
      "outputs": []
    },
    {
      "cell_type": "code",
      "source": [
        "class ResNet(nn.Module):\n",
        "    def __init__(self):\n",
        "        super(ResNet, self).__init__()\n",
        "        self.in_channels = 16\n",
        "        self.conv1 = nn.Conv2d(3, 16, kernel_size=3, stride=1, padding=1)\n",
        "        self.bn1 = nn.BatchNorm2d(16)\n",
        "        self.layer1 = self.layer(16, stride=1)\n",
        "        self.layer2 = self.layer(32, stride=2)\n",
        "        self.layer3 = self.layer(64, stride=2)\n",
        "        self.linear = nn.Linear(64, 10)\n",
        "\n",
        "    def layer(self, out_channels, stride):\n",
        "      strides = [stride] + [1]*(2)\n",
        "      layers = []\n",
        "      for stride in strides:\n",
        "            layers.append(Block(self.in_channels, out_channels, stride))\n",
        "            self.in_channels = out_channels\n",
        "      return nn.Sequential(*layers)\n",
        "\n",
        "    def forward(self, x):\n",
        "        out = F.relu(self.bn1(self.conv1(x)))\n",
        "        out = self.layer1(out)\n",
        "        out = self.layer2(out)\n",
        "        out = self.layer3(out)\n",
        "        out = F.avg_pool2d(out, 8)\n",
        "        out = out.view(out.size(0), -1)\n",
        "        out = self.linear(out)\n",
        "        return out"
      ],
      "metadata": {
        "id": "O0eisDzoxQLr"
      },
      "execution_count": 44,
      "outputs": []
    },
    {
      "cell_type": "markdown",
      "metadata": {
        "id": "hNtqG2h98o8i"
      },
      "source": [
        "### Question (a)\n",
        "Here is a sanity check to verify the implementation of SimpleNN. \n",
        "You need to:\n",
        "1. Write down your code.\n",
        "2. **In the PDF report**, give a brief description on how the code helps you know that SimpleNN is implemented correctly."
      ]
    },
    {
      "cell_type": "code",
      "execution_count": 45,
      "metadata": {
        "colab": {
          "base_uri": "https://localhost:8080/"
        },
        "id": "Du4ea1I78o8j",
        "outputId": "d542686f-8074-43c8-a5c5-10212be4d810"
      },
      "outputs": [
        {
          "output_type": "stream",
          "name": "stdout",
          "text": [
            "ResNet(\n",
            "  (conv1): Conv2d(3, 16, kernel_size=(3, 3), stride=(1, 1), padding=(1, 1))\n",
            "  (bn1): BatchNorm2d(16, eps=1e-05, momentum=0.1, affine=True, track_running_stats=True)\n",
            "  (layer1): Sequential(\n",
            "    (0): Block(\n",
            "      (conv1): Conv2d(16, 16, kernel_size=(3, 3), stride=(1, 1), padding=(1, 1))\n",
            "      (bn1): BatchNorm2d(16, eps=1e-05, momentum=0.1, affine=True, track_running_stats=True)\n",
            "      (conv2): Conv2d(16, 16, kernel_size=(3, 3), stride=(1, 1), padding=(1, 1))\n",
            "      (bn2): BatchNorm2d(16, eps=1e-05, momentum=0.1, affine=True, track_running_stats=True)\n",
            "      (identity): Sequential()\n",
            "    )\n",
            "    (1): Block(\n",
            "      (conv1): Conv2d(16, 16, kernel_size=(3, 3), stride=(1, 1), padding=(1, 1))\n",
            "      (bn1): BatchNorm2d(16, eps=1e-05, momentum=0.1, affine=True, track_running_stats=True)\n",
            "      (conv2): Conv2d(16, 16, kernel_size=(3, 3), stride=(1, 1), padding=(1, 1))\n",
            "      (bn2): BatchNorm2d(16, eps=1e-05, momentum=0.1, affine=True, track_running_stats=True)\n",
            "      (identity): Sequential()\n",
            "    )\n",
            "    (2): Block(\n",
            "      (conv1): Conv2d(16, 16, kernel_size=(3, 3), stride=(1, 1), padding=(1, 1))\n",
            "      (bn1): BatchNorm2d(16, eps=1e-05, momentum=0.1, affine=True, track_running_stats=True)\n",
            "      (conv2): Conv2d(16, 16, kernel_size=(3, 3), stride=(1, 1), padding=(1, 1))\n",
            "      (bn2): BatchNorm2d(16, eps=1e-05, momentum=0.1, affine=True, track_running_stats=True)\n",
            "      (identity): Sequential()\n",
            "    )\n",
            "  )\n",
            "  (layer2): Sequential(\n",
            "    (0): Block(\n",
            "      (conv1): Conv2d(16, 32, kernel_size=(3, 3), stride=(2, 2), padding=(1, 1))\n",
            "      (bn1): BatchNorm2d(32, eps=1e-05, momentum=0.1, affine=True, track_running_stats=True)\n",
            "      (conv2): Conv2d(32, 32, kernel_size=(3, 3), stride=(1, 1), padding=(1, 1))\n",
            "      (bn2): BatchNorm2d(32, eps=1e-05, momentum=0.1, affine=True, track_running_stats=True)\n",
            "      (identity): Sequential(\n",
            "        (0): Conv2d(16, 32, kernel_size=(1, 1), stride=(2, 2))\n",
            "        (1): BatchNorm2d(32, eps=1e-05, momentum=0.1, affine=True, track_running_stats=True)\n",
            "      )\n",
            "    )\n",
            "    (1): Block(\n",
            "      (conv1): Conv2d(32, 32, kernel_size=(3, 3), stride=(1, 1), padding=(1, 1))\n",
            "      (bn1): BatchNorm2d(32, eps=1e-05, momentum=0.1, affine=True, track_running_stats=True)\n",
            "      (conv2): Conv2d(32, 32, kernel_size=(3, 3), stride=(1, 1), padding=(1, 1))\n",
            "      (bn2): BatchNorm2d(32, eps=1e-05, momentum=0.1, affine=True, track_running_stats=True)\n",
            "      (identity): Sequential()\n",
            "    )\n",
            "    (2): Block(\n",
            "      (conv1): Conv2d(32, 32, kernel_size=(3, 3), stride=(1, 1), padding=(1, 1))\n",
            "      (bn1): BatchNorm2d(32, eps=1e-05, momentum=0.1, affine=True, track_running_stats=True)\n",
            "      (conv2): Conv2d(32, 32, kernel_size=(3, 3), stride=(1, 1), padding=(1, 1))\n",
            "      (bn2): BatchNorm2d(32, eps=1e-05, momentum=0.1, affine=True, track_running_stats=True)\n",
            "      (identity): Sequential()\n",
            "    )\n",
            "  )\n",
            "  (layer3): Sequential(\n",
            "    (0): Block(\n",
            "      (conv1): Conv2d(32, 64, kernel_size=(3, 3), stride=(2, 2), padding=(1, 1))\n",
            "      (bn1): BatchNorm2d(64, eps=1e-05, momentum=0.1, affine=True, track_running_stats=True)\n",
            "      (conv2): Conv2d(64, 64, kernel_size=(3, 3), stride=(1, 1), padding=(1, 1))\n",
            "      (bn2): BatchNorm2d(64, eps=1e-05, momentum=0.1, affine=True, track_running_stats=True)\n",
            "      (identity): Sequential(\n",
            "        (0): Conv2d(32, 64, kernel_size=(1, 1), stride=(2, 2))\n",
            "        (1): BatchNorm2d(64, eps=1e-05, momentum=0.1, affine=True, track_running_stats=True)\n",
            "      )\n",
            "    )\n",
            "    (1): Block(\n",
            "      (conv1): Conv2d(64, 64, kernel_size=(3, 3), stride=(1, 1), padding=(1, 1))\n",
            "      (bn1): BatchNorm2d(64, eps=1e-05, momentum=0.1, affine=True, track_running_stats=True)\n",
            "      (conv2): Conv2d(64, 64, kernel_size=(3, 3), stride=(1, 1), padding=(1, 1))\n",
            "      (bn2): BatchNorm2d(64, eps=1e-05, momentum=0.1, affine=True, track_running_stats=True)\n",
            "      (identity): Sequential()\n",
            "    )\n",
            "    (2): Block(\n",
            "      (conv1): Conv2d(64, 64, kernel_size=(3, 3), stride=(1, 1), padding=(1, 1))\n",
            "      (bn1): BatchNorm2d(64, eps=1e-05, momentum=0.1, affine=True, track_running_stats=True)\n",
            "      (conv2): Conv2d(64, 64, kernel_size=(3, 3), stride=(1, 1), padding=(1, 1))\n",
            "      (bn2): BatchNorm2d(64, eps=1e-05, momentum=0.1, affine=True, track_running_stats=True)\n",
            "      (identity): Sequential()\n",
            "    )\n",
            "  )\n",
            "  (linear): Linear(in_features=64, out_features=10, bias=True)\n",
            ")\n",
            "tensor([[-0.7013, -1.0079, -0.0852, -0.1322,  0.1379, -1.2807,  0.6420, -0.6182,\n",
            "          1.1103, -0.0088],\n",
            "        [-0.6994, -0.9978, -0.0849, -0.2474,  0.2315, -1.0200,  0.7177, -0.4437,\n",
            "          0.9599, -0.2242],\n",
            "        [-0.5678, -1.1385,  0.0995, -0.1398,  0.2512, -1.1798,  0.6420, -0.7082,\n",
            "          1.1882,  0.0127],\n",
            "        [-0.5904, -1.2090,  0.0894, -0.3276,  0.2401, -1.3038,  0.7844, -0.8362,\n",
            "          1.1721, -0.0379],\n",
            "        [-0.7076, -1.0424,  0.2182, -0.0619,  0.1965, -1.1786,  0.7795, -0.6373,\n",
            "          1.2009, -0.1557]], grad_fn=<AddmmBackward0>)\n"
          ]
        }
      ],
      "source": [
        "#############################################\n",
        "# sanity check for the correctness of SimpleNN\n",
        "\n",
        "net = ResNet()\n",
        "print(net)\n",
        "\n",
        "input = torch.randn(5,3, 32, 32)\n",
        "out = net(input)\n",
        "print(out)\n"
      ]
    },
    {
      "cell_type": "code",
      "source": [
        "net(input).size()"
      ],
      "metadata": {
        "colab": {
          "base_uri": "https://localhost:8080/"
        },
        "id": "O-6iXNU7EAnZ",
        "outputId": "de871da4-4ff8-43bf-a8df-83a7e5fea83a"
      },
      "execution_count": 46,
      "outputs": [
        {
          "output_type": "execute_result",
          "data": {
            "text/plain": [
              "torch.Size([5, 10])"
            ]
          },
          "metadata": {},
          "execution_count": 46
        }
      ]
    },
    {
      "cell_type": "code",
      "source": [
        "params = list(net.parameters())\n",
        "print(len(params))\n",
        "print(params[0].size())"
      ],
      "metadata": {
        "colab": {
          "base_uri": "https://localhost:8080/"
        },
        "id": "HVzFsawrGAgb",
        "outputId": "366be64d-dcd5-44f5-e3d9-86f59b63fbf4"
      },
      "execution_count": 47,
      "outputs": [
        {
          "output_type": "stream",
          "name": "stdout",
          "text": [
            "86\n",
            "torch.Size([16, 3, 3, 3])\n"
          ]
        }
      ]
    },
    {
      "cell_type": "markdown",
      "metadata": {
        "id": "4-Me0qtF8o8j"
      },
      "source": [
        "## Step 1: Set up preprocessing functions\n",
        "Preprocessing is very important as discussed in the lecture.\n",
        "You will need to write preprocessing functions with the help of *torchvision.transforms* in this step.\n",
        "You can find helpful tutorial/API at [here](https://pytorch.org/vision/stable/transforms.html)."
      ]
    },
    {
      "cell_type": "markdown",
      "metadata": {
        "id": "owmLoa8s8o8k"
      },
      "source": [
        "### Question (b)\n",
        "For the question, you need to:\n",
        "1. Complete the preprocessing code below.\n",
        "2. **In the PDF report**, briefly describe what preprocessing operations you used and what are the purposes of them.\n",
        "\n",
        "Hint: \n",
        "1. Only two operations are necessary to complete the basic preprocessing here.\n",
        "2. The raw input read from the dataset will be PIL images.\n",
        "3. Data augmentation operations are not mandatory, but feel free to incorporate them if you want.\n",
        "4. Reference value for mean/std of CIFAR-10 images (assuming the pixel values are within [0,1]): mean (RGB-format): (0.4914, 0.4822, 0.4465), std (RGB-format): (0.2023, 0.1994, 0.2010)"
      ]
    },
    {
      "cell_type": "code",
      "execution_count": 48,
      "metadata": {
        "id": "6ZRII0t-8o8k"
      },
      "outputs": [],
      "source": [
        "# useful libraries\n",
        "import torchvision\n",
        "import torchvision.transforms as transforms\n",
        "\n",
        "#############################################\n",
        "# specify preprocessing function\n",
        "\n",
        "#Combining 1) random cropping with a padding of 4 and 2) random flipping\n",
        "\n",
        "size, padding = 32, 4\n",
        "\n",
        "transform_train = transforms.Compose(\n",
        "    [transforms.RandomCrop(size, padding), transforms.RandomHorizontalFlip(p=0.5), transforms.ToTensor(),\n",
        "     transforms.Normalize((0.4914, 0.4822, 0.4465), (0.2023, 0.1994, 0.2010))])\n",
        "\n",
        "transform_val = transforms.Compose(\n",
        "    [transforms.RandomCrop(size, padding), transforms.RandomHorizontalFlip(p=0.5), transforms.ToTensor(),\n",
        "     transforms.Normalize((0.4914, 0.4822, 0.4465), (0.2023, 0.1994, 0.2010))])\n",
        "#############################################"
      ]
    },
    {
      "cell_type": "markdown",
      "metadata": {
        "id": "Bxz9FU3J8o8l"
      },
      "source": [
        "## Step 2: Set up dataset and dataloader\n",
        "\n",
        "### Question (c)\n",
        "Set up the train/val datasets and dataloders that are to be used during the training. Check out the [official API](https://pytorch.org/docs/stable/data.html) for more information about **torch.utils.data.DataLoader**.\n",
        "\n",
        "Here, you need to:\n",
        "1. Complete the code below."
      ]
    },
    {
      "cell_type": "code",
      "source": [
        "!unzip tools.zip"
      ],
      "metadata": {
        "colab": {
          "base_uri": "https://localhost:8080/"
        },
        "id": "FSdrOskZZqxJ",
        "outputId": "40ce4e3b-8544-409f-bdfc-2a04b31b5f9f"
      },
      "execution_count": 9,
      "outputs": [
        {
          "output_type": "stream",
          "name": "stdout",
          "text": [
            "Archive:  tools.zip\n",
            "   creating: tools/\n",
            "  inflating: tools/utils.py          \n",
            "   creating: tools/.ipynb_checkpoints/\n",
            "  inflating: tools/.ipynb_checkpoints/dataset-checkpoint.py  \n",
            "   creating: tools/__pycache__/\n",
            "  inflating: tools/__pycache__/utils.cpython-38.pyc  \n",
            "  inflating: tools/__pycache__/dataset.cpython-38.pyc  \n",
            "  inflating: tools/dataset.py        \n"
          ]
        }
      ]
    },
    {
      "cell_type": "code",
      "execution_count": 49,
      "metadata": {
        "colab": {
          "base_uri": "https://localhost:8080/"
        },
        "id": "fFIf4fm58o8l",
        "outputId": "bc9c845a-92fb-484b-f9de-36bf0141db6f"
      },
      "outputs": [
        {
          "output_type": "stream",
          "name": "stdout",
          "text": [
            "Using downloaded and verified file: ./data/cifar10_trainval_F22.zip\n",
            "Extracting ./data/cifar10_trainval_F22.zip to ./data\n",
            "Files already downloaded and verified\n",
            "Using downloaded and verified file: ./data/cifar10_trainval_F22.zip\n",
            "Extracting ./data/cifar10_trainval_F22.zip to ./data\n",
            "Files already downloaded and verified\n"
          ]
        }
      ],
      "source": [
        "# do NOT change these\n",
        "\n",
        "from tools.dataset import CIFAR10\n",
        "from torch.utils.data import DataLoader\n",
        "\n",
        "# a few arguments, do NOT change these\n",
        "DATA_ROOT = \"./data\"\n",
        "TRAIN_BATCH_SIZE = 128\n",
        "VAL_BATCH_SIZE = 100\n",
        "\n",
        "#############################################\n",
        "# your code here\n",
        "# construct dataset\n",
        "train_set = CIFAR10(\n",
        "    root=DATA_ROOT, \n",
        "    mode='train', \n",
        "    download=True,\n",
        "    transform=transform_train    # your code\n",
        ")\n",
        "val_set = CIFAR10(\n",
        "    root=DATA_ROOT, \n",
        "    mode='val', \n",
        "    download=True,\n",
        "    transform=transform_val    # your code\n",
        ")\n",
        "\n",
        "# construct dataloader\n",
        "train_loader = DataLoader(\n",
        "    train_set, \n",
        "    batch_size=TRAIN_BATCH_SIZE,  # your code\n",
        "    shuffle=True,     # your code\n",
        "    num_workers=4\n",
        ")\n",
        "val_loader = DataLoader(\n",
        "    val_set, \n",
        "    batch_size=VAL_BATCH_SIZE,  # your code\n",
        "    shuffle=True,     # your code\n",
        "    num_workers=4\n",
        ")\n",
        "#############################################"
      ]
    },
    {
      "cell_type": "markdown",
      "metadata": {
        "id": "BczsEVmZ8o8m"
      },
      "source": [
        "## Step 3: Instantiate your SimpleNN model and deploy it to GPU devices.\n",
        "### Question (d)\n",
        "You may want to deploy your model to GPU device for efficient training. Please assign your model to GPU if possible. If you are training on a machine without GPUs, please deploy your model to CPUs.\n",
        "\n",
        "Here, you need to:\n",
        "1. Complete the code below.\n",
        "2. **In the PDF report**, briefly describe how you verify that your model is indeed deployed on GPU. (Hint: check $\\texttt{nvidia-smi}$.)"
      ]
    },
    {
      "cell_type": "code",
      "execution_count": 50,
      "metadata": {
        "id": "k8kvmUp18o8m",
        "colab": {
          "base_uri": "https://localhost:8080/"
        },
        "outputId": "478085a1-02c4-40db-a767-152520770129"
      },
      "outputs": [
        {
          "output_type": "stream",
          "name": "stdout",
          "text": [
            "cuda:0\n"
          ]
        },
        {
          "output_type": "execute_result",
          "data": {
            "text/plain": [
              "ResNet(\n",
              "  (conv1): Conv2d(3, 16, kernel_size=(3, 3), stride=(1, 1), padding=(1, 1))\n",
              "  (bn1): BatchNorm2d(16, eps=1e-05, momentum=0.1, affine=True, track_running_stats=True)\n",
              "  (layer1): Sequential(\n",
              "    (0): Block(\n",
              "      (conv1): Conv2d(16, 16, kernel_size=(3, 3), stride=(1, 1), padding=(1, 1))\n",
              "      (bn1): BatchNorm2d(16, eps=1e-05, momentum=0.1, affine=True, track_running_stats=True)\n",
              "      (conv2): Conv2d(16, 16, kernel_size=(3, 3), stride=(1, 1), padding=(1, 1))\n",
              "      (bn2): BatchNorm2d(16, eps=1e-05, momentum=0.1, affine=True, track_running_stats=True)\n",
              "      (identity): Sequential()\n",
              "    )\n",
              "    (1): Block(\n",
              "      (conv1): Conv2d(16, 16, kernel_size=(3, 3), stride=(1, 1), padding=(1, 1))\n",
              "      (bn1): BatchNorm2d(16, eps=1e-05, momentum=0.1, affine=True, track_running_stats=True)\n",
              "      (conv2): Conv2d(16, 16, kernel_size=(3, 3), stride=(1, 1), padding=(1, 1))\n",
              "      (bn2): BatchNorm2d(16, eps=1e-05, momentum=0.1, affine=True, track_running_stats=True)\n",
              "      (identity): Sequential()\n",
              "    )\n",
              "    (2): Block(\n",
              "      (conv1): Conv2d(16, 16, kernel_size=(3, 3), stride=(1, 1), padding=(1, 1))\n",
              "      (bn1): BatchNorm2d(16, eps=1e-05, momentum=0.1, affine=True, track_running_stats=True)\n",
              "      (conv2): Conv2d(16, 16, kernel_size=(3, 3), stride=(1, 1), padding=(1, 1))\n",
              "      (bn2): BatchNorm2d(16, eps=1e-05, momentum=0.1, affine=True, track_running_stats=True)\n",
              "      (identity): Sequential()\n",
              "    )\n",
              "  )\n",
              "  (layer2): Sequential(\n",
              "    (0): Block(\n",
              "      (conv1): Conv2d(16, 32, kernel_size=(3, 3), stride=(2, 2), padding=(1, 1))\n",
              "      (bn1): BatchNorm2d(32, eps=1e-05, momentum=0.1, affine=True, track_running_stats=True)\n",
              "      (conv2): Conv2d(32, 32, kernel_size=(3, 3), stride=(1, 1), padding=(1, 1))\n",
              "      (bn2): BatchNorm2d(32, eps=1e-05, momentum=0.1, affine=True, track_running_stats=True)\n",
              "      (identity): Sequential(\n",
              "        (0): Conv2d(16, 32, kernel_size=(1, 1), stride=(2, 2))\n",
              "        (1): BatchNorm2d(32, eps=1e-05, momentum=0.1, affine=True, track_running_stats=True)\n",
              "      )\n",
              "    )\n",
              "    (1): Block(\n",
              "      (conv1): Conv2d(32, 32, kernel_size=(3, 3), stride=(1, 1), padding=(1, 1))\n",
              "      (bn1): BatchNorm2d(32, eps=1e-05, momentum=0.1, affine=True, track_running_stats=True)\n",
              "      (conv2): Conv2d(32, 32, kernel_size=(3, 3), stride=(1, 1), padding=(1, 1))\n",
              "      (bn2): BatchNorm2d(32, eps=1e-05, momentum=0.1, affine=True, track_running_stats=True)\n",
              "      (identity): Sequential()\n",
              "    )\n",
              "    (2): Block(\n",
              "      (conv1): Conv2d(32, 32, kernel_size=(3, 3), stride=(1, 1), padding=(1, 1))\n",
              "      (bn1): BatchNorm2d(32, eps=1e-05, momentum=0.1, affine=True, track_running_stats=True)\n",
              "      (conv2): Conv2d(32, 32, kernel_size=(3, 3), stride=(1, 1), padding=(1, 1))\n",
              "      (bn2): BatchNorm2d(32, eps=1e-05, momentum=0.1, affine=True, track_running_stats=True)\n",
              "      (identity): Sequential()\n",
              "    )\n",
              "  )\n",
              "  (layer3): Sequential(\n",
              "    (0): Block(\n",
              "      (conv1): Conv2d(32, 64, kernel_size=(3, 3), stride=(2, 2), padding=(1, 1))\n",
              "      (bn1): BatchNorm2d(64, eps=1e-05, momentum=0.1, affine=True, track_running_stats=True)\n",
              "      (conv2): Conv2d(64, 64, kernel_size=(3, 3), stride=(1, 1), padding=(1, 1))\n",
              "      (bn2): BatchNorm2d(64, eps=1e-05, momentum=0.1, affine=True, track_running_stats=True)\n",
              "      (identity): Sequential(\n",
              "        (0): Conv2d(32, 64, kernel_size=(1, 1), stride=(2, 2))\n",
              "        (1): BatchNorm2d(64, eps=1e-05, momentum=0.1, affine=True, track_running_stats=True)\n",
              "      )\n",
              "    )\n",
              "    (1): Block(\n",
              "      (conv1): Conv2d(64, 64, kernel_size=(3, 3), stride=(1, 1), padding=(1, 1))\n",
              "      (bn1): BatchNorm2d(64, eps=1e-05, momentum=0.1, affine=True, track_running_stats=True)\n",
              "      (conv2): Conv2d(64, 64, kernel_size=(3, 3), stride=(1, 1), padding=(1, 1))\n",
              "      (bn2): BatchNorm2d(64, eps=1e-05, momentum=0.1, affine=True, track_running_stats=True)\n",
              "      (identity): Sequential()\n",
              "    )\n",
              "    (2): Block(\n",
              "      (conv1): Conv2d(64, 64, kernel_size=(3, 3), stride=(1, 1), padding=(1, 1))\n",
              "      (bn1): BatchNorm2d(64, eps=1e-05, momentum=0.1, affine=True, track_running_stats=True)\n",
              "      (conv2): Conv2d(64, 64, kernel_size=(3, 3), stride=(1, 1), padding=(1, 1))\n",
              "      (bn2): BatchNorm2d(64, eps=1e-05, momentum=0.1, affine=True, track_running_stats=True)\n",
              "      (identity): Sequential()\n",
              "    )\n",
              "  )\n",
              "  (linear): Linear(in_features=64, out_features=10, bias=True)\n",
              ")"
            ]
          },
          "metadata": {},
          "execution_count": 50
        }
      ],
      "source": [
        "# specify the device for computation\n",
        "#############################################\n",
        "# your code here\n",
        "\n",
        "device = torch.device(\"cuda:0\" if torch.cuda.is_available() else \"cpu\")\n",
        "print(device)\n",
        "net.to(device)\n",
        "\n",
        "#############################################"
      ]
    },
    {
      "cell_type": "markdown",
      "metadata": {
        "id": "5dDWq_fk8o8m"
      },
      "source": [
        "## Step 4: Set up the loss function and optimizer\n",
        "Loss function/objective function is used to provide \"feedback\" for the neural networks. Typically, we use multi-class cross-entropy as the loss function for classification models. As for the optimizer, we will use SGD with momentum. "
      ]
    },
    {
      "cell_type": "markdown",
      "metadata": {
        "id": "R8kak2Pb8o8m"
      },
      "source": [
        "### Question (e)\n",
        "Here, you need to:\n",
        "1. Set up the cross-entropy loss as the criterion. (Hint: there are implemented functions in **torch.nn**)\n",
        "2. Specify a SGD optimizer with momentum. (Hint: there are implemented functions in **torch.optim**)"
      ]
    },
    {
      "cell_type": "code",
      "execution_count": 51,
      "metadata": {
        "id": "Xb5etwZY8o8m"
      },
      "outputs": [],
      "source": [
        "import torch.nn as nn\n",
        "import torch.optim as optim\n",
        "\n",
        "\n",
        "INITIAL_LR = 0.01\n",
        "BEST_LR= 0.05\n",
        "\n",
        "# momentum for optimizer\n",
        "MOMENTUM = 0.9\n",
        "\n",
        "# L2 regularization strength\n",
        "REG = 1e-4\n",
        "BEST_REG= 1e-4\n",
        "\n",
        "#############################################\n",
        "# create loss function\n",
        "criterion =  nn.CrossEntropyLoss()\n",
        "\n",
        "# Add optimizer\n",
        "#optimizer = optim.SGD(net.parameters(), lr=INITIAL_LR, momentum=MOMENTUM,weight_decay=REG)\n",
        "#############################################"
      ]
    },
    {
      "cell_type": "markdown",
      "metadata": {
        "id": "1rpN1GjG8o8n"
      },
      "source": [
        "## Step 5: Start the training process.\n",
        "\n",
        "### Question (f)/(g)\n",
        "Congratulations! You have completed all of the previous steps and it is time to train our neural network.\n",
        "\n",
        "Here you need to:\n",
        "1. Complete the training codes.\n",
        "2. Actually perform the training.\n",
        "\n",
        "Hint: Training a neural network usually repeats the following 4 steps: \n",
        "\n",
        "**i) Get a batch of data from the dataloader and copy it to your device (GPU).**\n",
        "\n",
        "**ii) Do a forward pass to get the outputs from the neural network and compute the loss. Be careful about your inputs to the loss function. Are the inputs required to be the logits or softmax probabilities?)**\n",
        "\n",
        "**iii) Do a backward pass (back-propagation) to compute gradients of all weights with respect to the loss.**\n",
        "\n",
        "**iiii) Update the model weights with the optimizer.**\n",
        "\n",
        "You will also need to compute the accuracy of training/validation samples to track your model's performance over each epoch (the accuracy should be increasing as you train for more and more epochs).\n"
      ]
    },
    {
      "cell_type": "code",
      "execution_count": 52,
      "metadata": {
        "id": "PGqCd3fe8o8n",
        "colab": {
          "base_uri": "https://localhost:8080/"
        },
        "outputId": "9b0d5039-fbdb-4aa9-d1ce-3e795525c1d1"
      },
      "outputs": [
        {
          "output_type": "stream",
          "name": "stdout",
          "text": [
            "==> Training starts!\n",
            "==================================================\n",
            "Epoch 0:\n",
            "Training loss: 1.7797, Training accuracy: 0.3264\n",
            "Validation loss: 1.6972, Validation accuracy: 0.4082\n",
            "\n",
            "Epoch 1:\n",
            "Training loss: 1.3344, Training accuracy: 0.5140\n",
            "Validation loss: 1.4227, Validation accuracy: 0.5040\n",
            "\n",
            "Epoch 2:\n",
            "Training loss: 1.0602, Training accuracy: 0.6191\n",
            "Validation loss: 1.1979, Validation accuracy: 0.5926\n",
            "\n",
            "Epoch 3:\n",
            "Training loss: 0.8865, Training accuracy: 0.6897\n",
            "Validation loss: 0.8956, Validation accuracy: 0.6880\n",
            "\n",
            "Epoch 4:\n",
            "Training loss: 0.7655, Training accuracy: 0.7331\n",
            "Validation loss: 0.8355, Validation accuracy: 0.7096\n",
            "\n",
            "Epoch 5:\n",
            "Training loss: 0.6867, Training accuracy: 0.7623\n",
            "Validation loss: 1.0765, Validation accuracy: 0.6524\n",
            "\n",
            "Epoch 6:\n",
            "Training loss: 0.6457, Training accuracy: 0.7768\n",
            "Validation loss: 0.6756, Validation accuracy: 0.7712\n",
            "\n",
            "Epoch 7:\n",
            "Training loss: 0.6005, Training accuracy: 0.7907\n",
            "Validation loss: 0.6834, Validation accuracy: 0.7686\n",
            "\n",
            "Epoch 8:\n",
            "Training loss: 0.5743, Training accuracy: 0.8032\n",
            "Validation loss: 0.7183, Validation accuracy: 0.7558\n",
            "\n",
            "Epoch 9:\n",
            "Training loss: 0.5520, Training accuracy: 0.8096\n",
            "Validation loss: 0.9242, Validation accuracy: 0.7138\n",
            "\n",
            "Epoch 10:\n",
            "Training loss: 0.5265, Training accuracy: 0.8190\n",
            "Validation loss: 0.6654, Validation accuracy: 0.7744\n",
            "\n",
            "Epoch 11:\n",
            "Training loss: 0.5078, Training accuracy: 0.8264\n",
            "Validation loss: 0.6523, Validation accuracy: 0.7794\n",
            "\n",
            "Epoch 12:\n",
            "Training loss: 0.4992, Training accuracy: 0.8279\n",
            "Validation loss: 0.6110, Validation accuracy: 0.7922\n",
            "\n",
            "Epoch 13:\n",
            "Training loss: 0.4824, Training accuracy: 0.8358\n",
            "Validation loss: 0.6766, Validation accuracy: 0.7804\n",
            "\n",
            "Epoch 14:\n",
            "Training loss: 0.4668, Training accuracy: 0.8390\n",
            "Validation loss: 0.6059, Validation accuracy: 0.7942\n",
            "\n",
            "Epoch 15:\n",
            "Training loss: 0.4525, Training accuracy: 0.8425\n",
            "Validation loss: 0.5728, Validation accuracy: 0.8044\n",
            "\n",
            "Epoch 16:\n",
            "Training loss: 0.4533, Training accuracy: 0.8452\n",
            "Validation loss: 0.6851, Validation accuracy: 0.7634\n",
            "\n",
            "Epoch 17:\n",
            "Training loss: 0.4424, Training accuracy: 0.8482\n",
            "Validation loss: 0.5085, Validation accuracy: 0.8236\n",
            "\n",
            "Epoch 18:\n",
            "Training loss: 0.4325, Training accuracy: 0.8489\n",
            "Validation loss: 0.5287, Validation accuracy: 0.8160\n",
            "\n",
            "Epoch 19:\n",
            "Training loss: 0.4240, Training accuracy: 0.8530\n",
            "Validation loss: 0.6048, Validation accuracy: 0.7972\n",
            "\n",
            "==================================================\n",
            "==> Optimization finished! Best validation accuracy: 0.8236\n"
          ]
        }
      ],
      "source": [
        "# total number of training epochs\n",
        "EPOCHS = 200\n",
        "\n",
        "# the folder where the trained model is saved\n",
        "CHECKPOINT_FOLDER = \"./saved_model\"\n",
        "\n",
        "# start the training/validation process\n",
        "# the process should take about 5 minutes on a GTX 1070-Ti\n",
        "# if the code is written efficiently.\n",
        "best_val_acc = 0\n",
        "current_learning_rate = 0.05\n",
        "DECAY_EPOCHS= 70\n",
        "DECAY= 0.1\n",
        "\n",
        "print(\"==> Training starts!\")\n",
        "print(\"=\"*50)\n",
        "for i in range(0, EPOCHS):\n",
        "    optimizer = optim.SGD(net.parameters(), lr=0.2, momentum=MOMENTUM,weight_decay=BEST_REG)\n",
        "    # optimizer= optim.Adam(net.parameters(), lr= 0.01,weight_decay=1e-4)\n",
        "\n",
        "    #handle the learning rate scheduler.\n",
        "    if i % DECAY_EPOCHS == 0 and i != 0:\n",
        "        current_learning_rate = current_learning_rate * DECAY\n",
        "        for param_group in optimizer.param_groups:\n",
        "            param_group['lr'] = current_learning_rate\n",
        "        print(\"Current learning rate has decayed to %f\" %current_learning_rate)\n",
        "    \n",
        "    ######################\n",
        "    # switch to train mode\n",
        "    net.train(True)\n",
        "    #######################\n",
        "    \n",
        "    print(\"Epoch %d:\" %i)\n",
        "    # this help you compute the training accuracy\n",
        "    total_examples = 0\n",
        "    correct_examples = 0\n",
        "\n",
        "    train_loss = 0 # track training loss if you want\n",
        "    \n",
        "    # Train the model for 1 epoch.\n",
        "    for batch_idx, (inputs, targets) in enumerate(train_loader):\n",
        "        ####################################\n",
        "        # your code here\n",
        "        # copy inputs to device\n",
        "        inputs, targets = inputs.to(device), targets.to(device)\n",
        "        \n",
        "        # compute the output and loss\n",
        "        outputs=net(inputs)\n",
        "        loss = criterion(outputs, targets)\n",
        "\n",
        "        # zero the gradient\n",
        "        optimizer.zero_grad()\n",
        "    \n",
        "        # backpropagation\n",
        "        loss.backward()\n",
        "        \n",
        "        if grad_clip is not None: \n",
        "                nn.utils.clip_grad_value_(net.parameters(), grad_clip)\n",
        "        # apply gradient and update the weights\n",
        "        optimizer.step()\n",
        "        \n",
        "        # count the number of correctly predicted samples in the current batch\n",
        "        _, predicted = torch.max(outputs, 1)\n",
        "        total_examples += targets.size(0)\n",
        "        correct_examples += (predicted == targets).sum().item()\n",
        "        train_loss+= loss\n",
        "        ####################################\n",
        "                \n",
        "    avg_loss = train_loss / len(train_loader)\n",
        "    avg_acc = correct_examples / total_examples\n",
        "    print(\"Training loss: %.4f, Training accuracy: %.4f\" %(avg_loss, avg_acc))\n",
        "\n",
        "    # Validate on the validation dataset\n",
        "    #######################\n",
        "    # switch to eval mode\n",
        "    net.eval()\n",
        "    \n",
        "    #######################\n",
        "\n",
        "    # this help you compute the validation accuracy\n",
        "    total_examples = 0\n",
        "    correct_examples = 0\n",
        "    \n",
        "    val_loss = 0 # again, track the validation loss if you want\n",
        "\n",
        "    # disable gradient during validation, which can save GPU memory\n",
        "    with torch.no_grad():\n",
        "        for batch_idx, (inputs, targets) in enumerate(val_loader):\n",
        "            ####################################\n",
        "            # copy inputs to device\n",
        "            inputs, targets = inputs.to(device), targets.to(device)\n",
        "            \n",
        "            # compute the output and loss\n",
        "            outputs=net(inputs)\n",
        "            loss = criterion(outputs, targets)\n",
        "            \n",
        "            # count the number of correctly predicted samples in the current batch\n",
        "            _, predicted = torch.max(outputs, 1)\n",
        "            total_examples += targets.size(0)\n",
        "            correct_examples += (predicted == targets).sum().item()\n",
        "            val_loss+= loss\n",
        "            ####################################\n",
        "\n",
        "    avg_loss = val_loss / len(val_loader)\n",
        "    avg_acc = correct_examples / total_examples\n",
        "    print(\"Validation loss: %.4f, Validation accuracy: %.4f\" % (avg_loss, avg_acc))\n",
        "    \n",
        "    # save the model checkpoint\n",
        "    if avg_acc > best_val_acc:\n",
        "        best_val_acc = avg_acc\n",
        "        #if not os.path.exists(CHECKPOINT_FOLDER):\n",
        "        #    os.makedirs(CHECKPOINT_FOLDER)\n",
        "        #print(\"Saving ...\")\n",
        "        #state = {'state_dict': net.state_dict(),\n",
        "        #         'epoch': i,\n",
        "        #         'lr': current_learning_rate}\n",
        "        #torch.save(state, os.path.join(CHECKPOINT_FOLDER, 'simplenn.pth'))\n",
        "        \n",
        "    print('')\n",
        "\n",
        "print(\"=\"*50)\n",
        "print(f\"==> Optimization finished! Best validation accuracy: {best_val_acc:.4f}\")"
      ]
    },
    {
      "cell_type": "code",
      "source": [
        "#torch.save(net.state_dict(), \"/content/trained_mod/resnet_1.ckpt\")\n",
        "#torch.save(net.state_dict(), \"/content/resnet_2.ckpt\")\n",
        "torch.save(net.state_dict(), \"/content/resnet_3.ckpt\")\n"
      ],
      "metadata": {
        "id": "0q1m6QdZLIak"
      },
      "execution_count": 26,
      "outputs": []
    },
    {
      "cell_type": "markdown",
      "metadata": {
        "id": "IXytEmu38o8n"
      },
      "source": [
        "# Bonus: with learning rate decay\n",
        "\n",
        "The following code can help you adjust the learning rate during training. You need to figure out how to incorporate this code into your training loop.\n",
        "```python\n",
        "    if i % DECAY_EPOCHS == 0 and i != 0:\n",
        "        current_learning_rate = current_learning_rate * DECAY\n",
        "        for param_group in optimizer.param_groups:\n",
        "            param_group['lr'] = current_learning_rate\n",
        "        print(\"Current learning rate has decayed to %f\" %current_learning_rate)\n",
        "```"
      ]
    },
    {
      "cell_type": "code",
      "execution_count": null,
      "metadata": {
        "id": "zfIZ3-dz8o8o"
      },
      "outputs": [],
      "source": []
    }
  ],
  "metadata": {
    "kernelspec": {
      "display_name": "Python 3",
      "language": "python",
      "name": "python3"
    },
    "language_info": {
      "codemirror_mode": {
        "name": "ipython",
        "version": 3
      },
      "file_extension": ".py",
      "mimetype": "text/x-python",
      "name": "python",
      "nbconvert_exporter": "python",
      "pygments_lexer": "ipython3",
      "version": "3.8.3"
    },
    "colab": {
      "provenance": [],
      "collapsed_sections": []
    },
    "accelerator": "GPU"
  },
  "nbformat": 4,
  "nbformat_minor": 0
}